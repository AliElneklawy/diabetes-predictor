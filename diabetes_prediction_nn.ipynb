{
  "nbformat": 4,
  "nbformat_minor": 0,
  "metadata": {
    "colab": {
      "provenance": [],
      "gpuType": "T4"
    },
    "kernelspec": {
      "name": "python3",
      "display_name": "Python 3"
    },
    "language_info": {
      "name": "python"
    },
    "accelerator": "GPU"
  },
  "cells": [
    {
      "cell_type": "code",
      "execution_count": 5,
      "metadata": {
        "id": "b1ur9dujbkdP"
      },
      "outputs": [],
      "source": [
        "import pandas as pd\n",
        "import matplotlib.pyplot as plt\n",
        "import numpy as np\n",
        "import warnings\n",
        "warnings.filterwarnings('ignore')\n",
        "import tensorflow as tf\n",
        "tf.random.set_seed(42)\n",
        "from sklearn.model_selection import train_test_split\n",
        "from tensorflow.keras.layers import Input, Dense, Normalization\n",
        "from sklearn.utils import class_weight\n",
        "from sklearn.metrics import precision_score, recall_score, f1_score\n",
        "from keras import backend as K\n",
        "import keras_tuner as kt\n",
        "from google.colab import files"
      ]
    },
    {
      "cell_type": "code",
      "source": [
        "df = pd.read_csv('diabetes.csv')\n",
        "df_copy = df.drop(df[df['gender'] == 'Other'].index)\n",
        "df_copy"
      ],
      "metadata": {
        "colab": {
          "base_uri": "https://localhost:8080/",
          "height": 424
        },
        "id": "UpBahXoebyNN",
        "outputId": "fa121f02-86de-427c-f668-0639e466e99a"
      },
      "execution_count": 6,
      "outputs": [
        {
          "output_type": "execute_result",
          "data": {
            "text/plain": [
              "       gender   age  hypertension  heart_disease smoking_history    bmi  \\\n",
              "0      Female  80.0             0              1           never  25.19   \n",
              "1      Female  54.0             0              0         No Info  27.32   \n",
              "2        Male  28.0             0              0           never  27.32   \n",
              "3      Female  36.0             0              0         current  23.45   \n",
              "4        Male  76.0             1              1         current  20.14   \n",
              "...       ...   ...           ...            ...             ...    ...   \n",
              "99995  Female  80.0             0              0         No Info  27.32   \n",
              "99996  Female   2.0             0              0         No Info  17.37   \n",
              "99997    Male  66.0             0              0          former  27.83   \n",
              "99998  Female  24.0             0              0           never  35.42   \n",
              "99999  Female  57.0             0              0         current  22.43   \n",
              "\n",
              "       HbA1c_level  blood_glucose_level  diabetes  \n",
              "0              6.6                  140         0  \n",
              "1              6.6                   80         0  \n",
              "2              5.7                  158         0  \n",
              "3              5.0                  155         0  \n",
              "4              4.8                  155         0  \n",
              "...            ...                  ...       ...  \n",
              "99995          6.2                   90         0  \n",
              "99996          6.5                  100         0  \n",
              "99997          5.7                  155         0  \n",
              "99998          4.0                  100         0  \n",
              "99999          6.6                   90         0  \n",
              "\n",
              "[99982 rows x 9 columns]"
            ],
            "text/html": [
              "\n",
              "  <div id=\"df-63e6f95c-d9d2-4e4e-ab86-ace93bf1bc3f\" class=\"colab-df-container\">\n",
              "    <div>\n",
              "<style scoped>\n",
              "    .dataframe tbody tr th:only-of-type {\n",
              "        vertical-align: middle;\n",
              "    }\n",
              "\n",
              "    .dataframe tbody tr th {\n",
              "        vertical-align: top;\n",
              "    }\n",
              "\n",
              "    .dataframe thead th {\n",
              "        text-align: right;\n",
              "    }\n",
              "</style>\n",
              "<table border=\"1\" class=\"dataframe\">\n",
              "  <thead>\n",
              "    <tr style=\"text-align: right;\">\n",
              "      <th></th>\n",
              "      <th>gender</th>\n",
              "      <th>age</th>\n",
              "      <th>hypertension</th>\n",
              "      <th>heart_disease</th>\n",
              "      <th>smoking_history</th>\n",
              "      <th>bmi</th>\n",
              "      <th>HbA1c_level</th>\n",
              "      <th>blood_glucose_level</th>\n",
              "      <th>diabetes</th>\n",
              "    </tr>\n",
              "  </thead>\n",
              "  <tbody>\n",
              "    <tr>\n",
              "      <th>0</th>\n",
              "      <td>Female</td>\n",
              "      <td>80.0</td>\n",
              "      <td>0</td>\n",
              "      <td>1</td>\n",
              "      <td>never</td>\n",
              "      <td>25.19</td>\n",
              "      <td>6.6</td>\n",
              "      <td>140</td>\n",
              "      <td>0</td>\n",
              "    </tr>\n",
              "    <tr>\n",
              "      <th>1</th>\n",
              "      <td>Female</td>\n",
              "      <td>54.0</td>\n",
              "      <td>0</td>\n",
              "      <td>0</td>\n",
              "      <td>No Info</td>\n",
              "      <td>27.32</td>\n",
              "      <td>6.6</td>\n",
              "      <td>80</td>\n",
              "      <td>0</td>\n",
              "    </tr>\n",
              "    <tr>\n",
              "      <th>2</th>\n",
              "      <td>Male</td>\n",
              "      <td>28.0</td>\n",
              "      <td>0</td>\n",
              "      <td>0</td>\n",
              "      <td>never</td>\n",
              "      <td>27.32</td>\n",
              "      <td>5.7</td>\n",
              "      <td>158</td>\n",
              "      <td>0</td>\n",
              "    </tr>\n",
              "    <tr>\n",
              "      <th>3</th>\n",
              "      <td>Female</td>\n",
              "      <td>36.0</td>\n",
              "      <td>0</td>\n",
              "      <td>0</td>\n",
              "      <td>current</td>\n",
              "      <td>23.45</td>\n",
              "      <td>5.0</td>\n",
              "      <td>155</td>\n",
              "      <td>0</td>\n",
              "    </tr>\n",
              "    <tr>\n",
              "      <th>4</th>\n",
              "      <td>Male</td>\n",
              "      <td>76.0</td>\n",
              "      <td>1</td>\n",
              "      <td>1</td>\n",
              "      <td>current</td>\n",
              "      <td>20.14</td>\n",
              "      <td>4.8</td>\n",
              "      <td>155</td>\n",
              "      <td>0</td>\n",
              "    </tr>\n",
              "    <tr>\n",
              "      <th>...</th>\n",
              "      <td>...</td>\n",
              "      <td>...</td>\n",
              "      <td>...</td>\n",
              "      <td>...</td>\n",
              "      <td>...</td>\n",
              "      <td>...</td>\n",
              "      <td>...</td>\n",
              "      <td>...</td>\n",
              "      <td>...</td>\n",
              "    </tr>\n",
              "    <tr>\n",
              "      <th>99995</th>\n",
              "      <td>Female</td>\n",
              "      <td>80.0</td>\n",
              "      <td>0</td>\n",
              "      <td>0</td>\n",
              "      <td>No Info</td>\n",
              "      <td>27.32</td>\n",
              "      <td>6.2</td>\n",
              "      <td>90</td>\n",
              "      <td>0</td>\n",
              "    </tr>\n",
              "    <tr>\n",
              "      <th>99996</th>\n",
              "      <td>Female</td>\n",
              "      <td>2.0</td>\n",
              "      <td>0</td>\n",
              "      <td>0</td>\n",
              "      <td>No Info</td>\n",
              "      <td>17.37</td>\n",
              "      <td>6.5</td>\n",
              "      <td>100</td>\n",
              "      <td>0</td>\n",
              "    </tr>\n",
              "    <tr>\n",
              "      <th>99997</th>\n",
              "      <td>Male</td>\n",
              "      <td>66.0</td>\n",
              "      <td>0</td>\n",
              "      <td>0</td>\n",
              "      <td>former</td>\n",
              "      <td>27.83</td>\n",
              "      <td>5.7</td>\n",
              "      <td>155</td>\n",
              "      <td>0</td>\n",
              "    </tr>\n",
              "    <tr>\n",
              "      <th>99998</th>\n",
              "      <td>Female</td>\n",
              "      <td>24.0</td>\n",
              "      <td>0</td>\n",
              "      <td>0</td>\n",
              "      <td>never</td>\n",
              "      <td>35.42</td>\n",
              "      <td>4.0</td>\n",
              "      <td>100</td>\n",
              "      <td>0</td>\n",
              "    </tr>\n",
              "    <tr>\n",
              "      <th>99999</th>\n",
              "      <td>Female</td>\n",
              "      <td>57.0</td>\n",
              "      <td>0</td>\n",
              "      <td>0</td>\n",
              "      <td>current</td>\n",
              "      <td>22.43</td>\n",
              "      <td>6.6</td>\n",
              "      <td>90</td>\n",
              "      <td>0</td>\n",
              "    </tr>\n",
              "  </tbody>\n",
              "</table>\n",
              "<p>99982 rows × 9 columns</p>\n",
              "</div>\n",
              "    <div class=\"colab-df-buttons\">\n",
              "\n",
              "  <div class=\"colab-df-container\">\n",
              "    <button class=\"colab-df-convert\" onclick=\"convertToInteractive('df-63e6f95c-d9d2-4e4e-ab86-ace93bf1bc3f')\"\n",
              "            title=\"Convert this dataframe to an interactive table.\"\n",
              "            style=\"display:none;\">\n",
              "\n",
              "  <svg xmlns=\"http://www.w3.org/2000/svg\" height=\"24px\" viewBox=\"0 -960 960 960\">\n",
              "    <path d=\"M120-120v-720h720v720H120Zm60-500h600v-160H180v160Zm220 220h160v-160H400v160Zm0 220h160v-160H400v160ZM180-400h160v-160H180v160Zm440 0h160v-160H620v160ZM180-180h160v-160H180v160Zm440 0h160v-160H620v160Z\"/>\n",
              "  </svg>\n",
              "    </button>\n",
              "\n",
              "  <style>\n",
              "    .colab-df-container {\n",
              "      display:flex;\n",
              "      gap: 12px;\n",
              "    }\n",
              "\n",
              "    .colab-df-convert {\n",
              "      background-color: #E8F0FE;\n",
              "      border: none;\n",
              "      border-radius: 50%;\n",
              "      cursor: pointer;\n",
              "      display: none;\n",
              "      fill: #1967D2;\n",
              "      height: 32px;\n",
              "      padding: 0 0 0 0;\n",
              "      width: 32px;\n",
              "    }\n",
              "\n",
              "    .colab-df-convert:hover {\n",
              "      background-color: #E2EBFA;\n",
              "      box-shadow: 0px 1px 2px rgba(60, 64, 67, 0.3), 0px 1px 3px 1px rgba(60, 64, 67, 0.15);\n",
              "      fill: #174EA6;\n",
              "    }\n",
              "\n",
              "    .colab-df-buttons div {\n",
              "      margin-bottom: 4px;\n",
              "    }\n",
              "\n",
              "    [theme=dark] .colab-df-convert {\n",
              "      background-color: #3B4455;\n",
              "      fill: #D2E3FC;\n",
              "    }\n",
              "\n",
              "    [theme=dark] .colab-df-convert:hover {\n",
              "      background-color: #434B5C;\n",
              "      box-shadow: 0px 1px 3px 1px rgba(0, 0, 0, 0.15);\n",
              "      filter: drop-shadow(0px 1px 2px rgba(0, 0, 0, 0.3));\n",
              "      fill: #FFFFFF;\n",
              "    }\n",
              "  </style>\n",
              "\n",
              "    <script>\n",
              "      const buttonEl =\n",
              "        document.querySelector('#df-63e6f95c-d9d2-4e4e-ab86-ace93bf1bc3f button.colab-df-convert');\n",
              "      buttonEl.style.display =\n",
              "        google.colab.kernel.accessAllowed ? 'block' : 'none';\n",
              "\n",
              "      async function convertToInteractive(key) {\n",
              "        const element = document.querySelector('#df-63e6f95c-d9d2-4e4e-ab86-ace93bf1bc3f');\n",
              "        const dataTable =\n",
              "          await google.colab.kernel.invokeFunction('convertToInteractive',\n",
              "                                                    [key], {});\n",
              "        if (!dataTable) return;\n",
              "\n",
              "        const docLinkHtml = 'Like what you see? Visit the ' +\n",
              "          '<a target=\"_blank\" href=https://colab.research.google.com/notebooks/data_table.ipynb>data table notebook</a>'\n",
              "          + ' to learn more about interactive tables.';\n",
              "        element.innerHTML = '';\n",
              "        dataTable['output_type'] = 'display_data';\n",
              "        await google.colab.output.renderOutput(dataTable, element);\n",
              "        const docLink = document.createElement('div');\n",
              "        docLink.innerHTML = docLinkHtml;\n",
              "        element.appendChild(docLink);\n",
              "      }\n",
              "    </script>\n",
              "  </div>\n",
              "\n",
              "\n",
              "<div id=\"df-2af32b06-92f9-47fe-8d2c-76a9534d54b4\">\n",
              "  <button class=\"colab-df-quickchart\" onclick=\"quickchart('df-2af32b06-92f9-47fe-8d2c-76a9534d54b4')\"\n",
              "            title=\"Suggest charts.\"\n",
              "            style=\"display:none;\">\n",
              "\n",
              "<svg xmlns=\"http://www.w3.org/2000/svg\" height=\"24px\"viewBox=\"0 0 24 24\"\n",
              "     width=\"24px\">\n",
              "    <g>\n",
              "        <path d=\"M19 3H5c-1.1 0-2 .9-2 2v14c0 1.1.9 2 2 2h14c1.1 0 2-.9 2-2V5c0-1.1-.9-2-2-2zM9 17H7v-7h2v7zm4 0h-2V7h2v10zm4 0h-2v-4h2v4z\"/>\n",
              "    </g>\n",
              "</svg>\n",
              "  </button>\n",
              "\n",
              "<style>\n",
              "  .colab-df-quickchart {\n",
              "    background-color: #E8F0FE;\n",
              "    border: none;\n",
              "    border-radius: 50%;\n",
              "    cursor: pointer;\n",
              "    display: none;\n",
              "    fill: #1967D2;\n",
              "    height: 32px;\n",
              "    padding: 0 0 0 0;\n",
              "    width: 32px;\n",
              "  }\n",
              "\n",
              "  .colab-df-quickchart:hover {\n",
              "    background-color: #E2EBFA;\n",
              "    box-shadow: 0px 1px 2px rgba(60, 64, 67, 0.3), 0px 1px 3px 1px rgba(60, 64, 67, 0.15);\n",
              "    fill: #174EA6;\n",
              "  }\n",
              "\n",
              "  [theme=dark] .colab-df-quickchart {\n",
              "    background-color: #3B4455;\n",
              "    fill: #D2E3FC;\n",
              "  }\n",
              "\n",
              "  [theme=dark] .colab-df-quickchart:hover {\n",
              "    background-color: #434B5C;\n",
              "    box-shadow: 0px 1px 3px 1px rgba(0, 0, 0, 0.15);\n",
              "    filter: drop-shadow(0px 1px 2px rgba(0, 0, 0, 0.3));\n",
              "    fill: #FFFFFF;\n",
              "  }\n",
              "</style>\n",
              "\n",
              "  <script>\n",
              "    async function quickchart(key) {\n",
              "      const charts = await google.colab.kernel.invokeFunction(\n",
              "          'suggestCharts', [key], {});\n",
              "    }\n",
              "    (() => {\n",
              "      let quickchartButtonEl =\n",
              "        document.querySelector('#df-2af32b06-92f9-47fe-8d2c-76a9534d54b4 button');\n",
              "      quickchartButtonEl.style.display =\n",
              "        google.colab.kernel.accessAllowed ? 'block' : 'none';\n",
              "    })();\n",
              "  </script>\n",
              "</div>\n",
              "    </div>\n",
              "  </div>\n"
            ]
          },
          "metadata": {},
          "execution_count": 6
        }
      ]
    },
    {
      "cell_type": "markdown",
      "source": [
        "# Create test set"
      ],
      "metadata": {
        "id": "xV5gWNvbjEdN"
      }
    },
    {
      "cell_type": "code",
      "source": [
        "X = df_copy.drop(columns='diabetes')\n",
        "y = df_copy['diabetes'].copy()"
      ],
      "metadata": {
        "id": "Uoc6gBt00lb7"
      },
      "execution_count": 7,
      "outputs": []
    },
    {
      "cell_type": "code",
      "source": [
        "X_train_full, X_test, y_train_full, y_test = train_test_split(X, y,\n",
        "                                                    test_size=.2,\n",
        "                                                    stratify=df_copy['diabetes'],\n",
        "                                                    random_state=42)\n",
        "\n",
        "X_train, y_train = X_train_full[:-7000], y_train_full[:-7000]\n",
        "X_valid, y_valid = X_train_full[-7000:], y_train_full[-7000:]"
      ],
      "metadata": {
        "id": "a2xwUvIkz_oJ"
      },
      "execution_count": 8,
      "outputs": []
    },
    {
      "cell_type": "code",
      "source": [
        "X_train = pd.get_dummies(X_train)"
      ],
      "metadata": {
        "id": "8tPOIiWiC2Tq"
      },
      "execution_count": 9,
      "outputs": []
    },
    {
      "cell_type": "code",
      "source": [
        "X_valid = pd.get_dummies(X_valid)"
      ],
      "metadata": {
        "id": "xL1bietRDU3F"
      },
      "execution_count": 10,
      "outputs": []
    },
    {
      "cell_type": "markdown",
      "source": [
        "# Sequential API"
      ],
      "metadata": {
        "id": "9Q9tyZ9isy4A"
      }
    },
    {
      "cell_type": "code",
      "source": [
        "early_stopping_cb = tf.keras.callbacks.EarlyStopping(patience=15,\n",
        "                                                     restore_best_weights=True,\n",
        "                                                     verbose=1\n",
        "                                                     )"
      ],
      "metadata": {
        "id": "J966S4lc4gqt"
      },
      "execution_count": 11,
      "outputs": []
    },
    {
      "cell_type": "code",
      "source": [
        "model = tf.keras.Sequential([\n",
        "    Input(shape=(14,), name='input_layer'),\n",
        "    Normalization(),\n",
        "    Dense(300, activation='relu', name='dense_layer_1'),\n",
        "    Dense(100, activation='relu', name='dense_layer_2'),\n",
        "    Dense(50, activation='relu', name='dense_layer_3'),\n",
        "    Dense(25, activation='relu', name='dense_layer_4'),\n",
        "    Dense(10, activation='relu', name='dense_layer_5'),\n",
        "    Dense(1, activation='sigmoid', name='output_layer')\n",
        "])"
      ],
      "metadata": {
        "id": "jAogFafesX9x"
      },
      "execution_count": 12,
      "outputs": []
    },
    {
      "cell_type": "code",
      "source": [
        "model.compile(loss='binary_crossentropy',\n",
        "              optimizer='adam',\n",
        "              metrics=[tf.keras.metrics.Recall(), tf.keras.metrics.Precision()])"
      ],
      "metadata": {
        "id": "laVQJxtixbtj"
      },
      "execution_count": 13,
      "outputs": []
    },
    {
      "cell_type": "code",
      "source": [
        "class_labels = [0, 1]\n",
        "class_weights = class_weight.compute_class_weight('balanced',\n",
        "                                                  classes=class_labels,\n",
        "                                                  y=df_copy['diabetes'])\n",
        "class_weights_dict = dict(zip(class_labels, class_weights))\n"
      ],
      "metadata": {
        "id": "wmSRNPse2kyH"
      },
      "execution_count": 48,
      "outputs": []
    },
    {
      "cell_type": "code",
      "source": [
        "history = model.fit(X_train, y_train, epochs=1000,\n",
        "          validation_data=(X_valid, y_valid),\n",
        "          class_weight={0: 2, 1: 5},\n",
        "          callbacks=[early_stopping_cb])"
      ],
      "metadata": {
        "colab": {
          "base_uri": "https://localhost:8080/"
        },
        "id": "Kpz5vAGYyiWQ",
        "outputId": "b8d13851-4fb9-4d10-d08d-498b382ac184"
      },
      "execution_count": 14,
      "outputs": [
        {
          "output_type": "stream",
          "name": "stdout",
          "text": [
            "Epoch 1/1000\n",
            "2281/2281 [==============================] - 21s 5ms/step - loss: 0.5452 - recall: 0.3100 - precision: 0.4484 - val_loss: 0.2080 - val_recall: 0.4950 - val_precision: 0.5933\n",
            "Epoch 2/1000\n",
            "2281/2281 [==============================] - 11s 5ms/step - loss: 0.3463 - recall: 0.6244 - precision: 0.5836 - val_loss: 0.1271 - val_recall: 0.5497 - val_precision: 0.8579\n",
            "Epoch 3/1000\n",
            "2281/2281 [==============================] - 11s 5ms/step - loss: 0.2842 - recall: 0.6801 - precision: 0.6615 - val_loss: 0.1323 - val_recall: 0.6987 - val_precision: 0.7391\n",
            "Epoch 4/1000\n",
            "2281/2281 [==============================] - 12s 5ms/step - loss: 0.2639 - recall: 0.6887 - precision: 0.6899 - val_loss: 0.1864 - val_recall: 0.7964 - val_precision: 0.5491\n",
            "Epoch 5/1000\n",
            "2281/2281 [==============================] - 16s 7ms/step - loss: 0.2605 - recall: 0.6974 - precision: 0.6877 - val_loss: 0.1224 - val_recall: 0.6639 - val_precision: 0.7741\n",
            "Epoch 6/1000\n",
            "2281/2281 [==============================] - 12s 5ms/step - loss: 0.2494 - recall: 0.7038 - precision: 0.7139 - val_loss: 0.1365 - val_recall: 0.7086 - val_precision: 0.6625\n",
            "Epoch 7/1000\n",
            "2281/2281 [==============================] - 11s 5ms/step - loss: 0.2510 - recall: 0.7040 - precision: 0.7071 - val_loss: 0.2007 - val_recall: 0.7682 - val_precision: 0.5421\n",
            "Epoch 8/1000\n",
            "2281/2281 [==============================] - 12s 5ms/step - loss: 0.2451 - recall: 0.7034 - precision: 0.7282 - val_loss: 0.1243 - val_recall: 0.4553 - val_precision: 0.9928\n",
            "Epoch 9/1000\n",
            "2281/2281 [==============================] - 11s 5ms/step - loss: 0.2442 - recall: 0.7005 - precision: 0.7294 - val_loss: 0.1069 - val_recall: 0.6175 - val_precision: 0.9233\n",
            "Epoch 10/1000\n",
            "2281/2281 [==============================] - 11s 5ms/step - loss: 0.2408 - recall: 0.7011 - precision: 0.7318 - val_loss: 0.1171 - val_recall: 0.6656 - val_precision: 0.7898\n",
            "Epoch 11/1000\n",
            "2281/2281 [==============================] - 14s 6ms/step - loss: 0.2342 - recall: 0.7080 - precision: 0.7470 - val_loss: 0.1139 - val_recall: 0.5546 - val_precision: 0.9384\n",
            "Epoch 12/1000\n",
            "2281/2281 [==============================] - 12s 5ms/step - loss: 0.2351 - recall: 0.7101 - precision: 0.7444 - val_loss: 0.1196 - val_recall: 0.6755 - val_precision: 0.8412\n",
            "Epoch 13/1000\n",
            "2281/2281 [==============================] - 11s 5ms/step - loss: 0.2331 - recall: 0.7097 - precision: 0.7465 - val_loss: 0.1121 - val_recall: 0.6755 - val_precision: 0.8310\n",
            "Epoch 14/1000\n",
            "2281/2281 [==============================] - 11s 5ms/step - loss: 0.2262 - recall: 0.7209 - precision: 0.7561 - val_loss: 0.1428 - val_recall: 0.7202 - val_precision: 0.6755\n",
            "Epoch 15/1000\n",
            "2281/2281 [==============================] - 11s 5ms/step - loss: 0.2279 - recall: 0.7150 - precision: 0.7460 - val_loss: 0.1406 - val_recall: 0.7483 - val_precision: 0.6777\n",
            "Epoch 16/1000\n",
            "2281/2281 [==============================] - 16s 7ms/step - loss: 0.2284 - recall: 0.7106 - precision: 0.7547 - val_loss: 0.1105 - val_recall: 0.6540 - val_precision: 0.8720\n",
            "Epoch 17/1000\n",
            "2281/2281 [==============================] - 11s 5ms/step - loss: 0.2250 - recall: 0.7132 - precision: 0.7578 - val_loss: 0.1543 - val_recall: 0.7566 - val_precision: 0.6209\n",
            "Epoch 18/1000\n",
            "2281/2281 [==============================] - 11s 5ms/step - loss: 0.2279 - recall: 0.7082 - precision: 0.7691 - val_loss: 0.1159 - val_recall: 0.7119 - val_precision: 0.8129\n",
            "Epoch 19/1000\n",
            "2281/2281 [==============================] - 12s 5ms/step - loss: 0.2268 - recall: 0.7119 - precision: 0.7641 - val_loss: 0.1274 - val_recall: 0.7268 - val_precision: 0.7504\n",
            "Epoch 20/1000\n",
            "2281/2281 [==============================] - 19s 8ms/step - loss: 0.2240 - recall: 0.7150 - precision: 0.7742 - val_loss: 0.1189 - val_recall: 0.7318 - val_precision: 0.7795\n",
            "Epoch 21/1000\n",
            "2281/2281 [==============================] - 17s 7ms/step - loss: 0.2216 - recall: 0.7177 - precision: 0.7628 - val_loss: 0.0988 - val_recall: 0.6540 - val_precision: 0.9316\n",
            "Epoch 22/1000\n",
            "2281/2281 [==============================] - 12s 5ms/step - loss: 0.2261 - recall: 0.7151 - precision: 0.7640 - val_loss: 0.1338 - val_recall: 0.6606 - val_precision: 0.7996\n",
            "Epoch 23/1000\n",
            "2281/2281 [==============================] - 17s 7ms/step - loss: 0.2244 - recall: 0.7171 - precision: 0.7631 - val_loss: 0.1627 - val_recall: 0.8079 - val_precision: 0.5596\n",
            "Epoch 24/1000\n",
            "2281/2281 [==============================] - 14s 6ms/step - loss: 0.2233 - recall: 0.7182 - precision: 0.7641 - val_loss: 0.1109 - val_recall: 0.6854 - val_precision: 0.8449\n",
            "Epoch 25/1000\n",
            "2281/2281 [==============================] - 15s 7ms/step - loss: 0.2217 - recall: 0.7193 - precision: 0.7754 - val_loss: 0.1127 - val_recall: 0.7202 - val_precision: 0.8177\n",
            "Epoch 26/1000\n",
            "2281/2281 [==============================] - 13s 6ms/step - loss: 0.2189 - recall: 0.7177 - precision: 0.7684 - val_loss: 0.1842 - val_recall: 0.8046 - val_precision: 0.5148\n",
            "Epoch 27/1000\n",
            "2281/2281 [==============================] - 20s 9ms/step - loss: 0.2242 - recall: 0.7214 - precision: 0.7703 - val_loss: 0.1092 - val_recall: 0.5877 - val_precision: 0.9467\n",
            "Epoch 28/1000\n",
            "2281/2281 [==============================] - 14s 6ms/step - loss: 0.2166 - recall: 0.7198 - precision: 0.7674 - val_loss: 0.1276 - val_recall: 0.7202 - val_precision: 0.7178\n",
            "Epoch 29/1000\n",
            "2281/2281 [==============================] - 17s 7ms/step - loss: 0.2133 - recall: 0.7253 - precision: 0.7714 - val_loss: 0.1055 - val_recall: 0.5795 - val_precision: 0.9831\n",
            "Epoch 30/1000\n",
            "2281/2281 [==============================] - 16s 7ms/step - loss: 0.2170 - recall: 0.7198 - precision: 0.7807 - val_loss: 0.1190 - val_recall: 0.7434 - val_precision: 0.7483\n",
            "Epoch 31/1000\n",
            "2281/2281 [==============================] - 14s 6ms/step - loss: 0.2169 - recall: 0.7179 - precision: 0.7738 - val_loss: 0.1147 - val_recall: 0.7070 - val_precision: 0.8212\n",
            "Epoch 32/1000\n",
            "2281/2281 [==============================] - 11s 5ms/step - loss: 0.2184 - recall: 0.7140 - precision: 0.7714 - val_loss: 0.1255 - val_recall: 0.7732 - val_precision: 0.7001\n",
            "Epoch 33/1000\n",
            "2281/2281 [==============================] - 11s 5ms/step - loss: 0.2144 - recall: 0.7258 - precision: 0.7706 - val_loss: 0.1136 - val_recall: 0.7103 - val_precision: 0.8330\n",
            "Epoch 34/1000\n",
            "2281/2281 [==============================] - 11s 5ms/step - loss: 0.2159 - recall: 0.7174 - precision: 0.7796 - val_loss: 0.1363 - val_recall: 0.8030 - val_precision: 0.6774\n",
            "Epoch 35/1000\n",
            "2281/2281 [==============================] - 13s 6ms/step - loss: 0.2148 - recall: 0.7205 - precision: 0.7904 - val_loss: 0.1073 - val_recall: 0.6921 - val_precision: 0.8727\n",
            "Epoch 36/1000\n",
            "2272/2281 [============================>.] - ETA: 0s - loss: 0.2151 - recall: 0.7242 - precision: 0.7784Restoring model weights from the end of the best epoch: 21.\n",
            "2281/2281 [==============================] - 11s 5ms/step - loss: 0.2150 - recall: 0.7240 - precision: 0.7784 - val_loss: 0.1104 - val_recall: 0.6291 - val_precision: 0.8796\n",
            "Epoch 36: early stopping\n"
          ]
        }
      ]
    },
    {
      "cell_type": "code",
      "source": [
        "pd.DataFrame(history.history).plot(figsize=(8, 5), grid=True)"
      ],
      "metadata": {
        "colab": {
          "base_uri": "https://localhost:8080/",
          "height": 462
        },
        "id": "qjMuSWQwE1DJ",
        "outputId": "0ff80d22-daa1-4361-e82d-4af17624d19e"
      },
      "execution_count": 114,
      "outputs": [
        {
          "output_type": "execute_result",
          "data": {
            "text/plain": [
              "<Axes: >"
            ]
          },
          "metadata": {},
          "execution_count": 114
        },
        {
          "output_type": "display_data",
          "data": {
            "text/plain": [
              "<Figure size 800x500 with 1 Axes>"
            ],
            "image/png": "[encoded data removed]"
          },
          "metadata": {}
        }
      ]
    },
    {
      "cell_type": "code",
      "source": [
        "model.evaluate(pd.get_dummies(X_test), y_test)"
      ],
      "metadata": {
        "colab": {
          "base_uri": "https://localhost:8080/"
        },
        "id": "LhsPS4CJBeH5",
        "outputId": "608e27ff-e1cd-4795-9c8a-064c1962dd45"
      },
      "execution_count": 16,
      "outputs": [
        {
          "output_type": "stream",
          "name": "stdout",
          "text": [
            "625/625 [==============================] - 2s 3ms/step - loss: 0.0908 - recall: 0.6771 - precision: 0.9434\n"
          ]
        },
        {
          "output_type": "execute_result",
          "data": {
            "text/plain": [
              "[0.09077893942594528, 0.6770588159561157, 0.9434426426887512]"
            ]
          },
          "metadata": {},
          "execution_count": 16
        }
      ]
    },
    {
      "cell_type": "code",
      "source": [
        "!pip install -U keras-tuner"
      ],
      "metadata": {
        "colab": {
          "base_uri": "https://localhost:8080/"
        },
        "id": "Jji_5Zqp1ZpU",
        "outputId": "e464c769-d9b4-449c-854f-af2f3c26eeee"
      },
      "execution_count": 73,
      "outputs": [
        {
          "output_type": "stream",
          "name": "stdout",
          "text": [
            "Collecting keras-tuner\n",
            "  Downloading keras_tuner-1.3.5-py3-none-any.whl (176 kB)\n",
            "\u001b[?25l     \u001b[90m━━━━━━━━━━━━━━━━━━━━━━━━━━━━━━━━━━━━━━━━\u001b[0m \u001b[32m0.0/176.1 kB\u001b[0m \u001b[31m?\u001b[0m eta \u001b[36m-:--:--\u001b[0m\r\u001b[2K     \u001b[91m━━━━━━━━━━━━━━━━━━━━━━━━━━━\u001b[0m\u001b[90m╺\u001b[0m\u001b[90m━━━━━━━━━━━\u001b[0m \u001b[32m122.9/176.1 kB\u001b[0m \u001b[31m3.7 MB/s\u001b[0m eta \u001b[36m0:00:01\u001b[0m\r\u001b[2K     \u001b[90m━━━━━━━━━━━━━━━━━━━━━━━━━━━━━━━━━━━━━━━\u001b[0m \u001b[32m176.1/176.1 kB\u001b[0m \u001b[31m4.0 MB/s\u001b[0m eta \u001b[36m0:00:00\u001b[0m\n",
            "\u001b[?25hRequirement already satisfied: packaging in /usr/local/lib/python3.10/dist-packages (from keras-tuner) (23.1)\n",
            "Requirement already satisfied: requests in /usr/local/lib/python3.10/dist-packages (from keras-tuner) (2.31.0)\n",
            "Collecting kt-legacy (from keras-tuner)\n",
            "  Downloading kt_legacy-1.0.5-py3-none-any.whl (9.6 kB)\n",
            "Requirement already satisfied: charset-normalizer<4,>=2 in /usr/local/lib/python3.10/dist-packages (from requests->keras-tuner) (3.2.0)\n",
            "Requirement already satisfied: idna<4,>=2.5 in /usr/local/lib/python3.10/dist-packages (from requests->keras-tuner) (3.4)\n",
            "Requirement already satisfied: urllib3<3,>=1.21.1 in /usr/local/lib/python3.10/dist-packages (from requests->keras-tuner) (2.0.4)\n",
            "Requirement already satisfied: certifi>=2017.4.17 in /usr/local/lib/python3.10/dist-packages (from requests->keras-tuner) (2023.7.22)\n",
            "Installing collected packages: kt-legacy, keras-tuner\n",
            "Successfully installed keras-tuner-1.3.5 kt-legacy-1.0.5\n"
          ]
        }
      ]
    },
    {
      "cell_type": "code",
      "source": [
        "kthp = kt.HyperParameters\n",
        "def build_model(hp: kthp):\n",
        "  n_hidden = hp.Int('n_hidden', min_value=0,\n",
        "                    max_value=10, default=2)\n",
        "\n",
        "  n_neurons = hp.Int('n_neurons', min_value=16,\n",
        "                     max_value=256)\n",
        "\n",
        "  learning_rate = hp.Float('learning_rate', min_value=1e-5,\n",
        "                           max_value=1e-2,\n",
        "                           sampling='log')\n",
        "\n",
        "  opt = hp.Choice('optimizer',\n",
        "                        values=['sgd', 'adam', 'adamax', 'adafactor'])\n",
        "\n",
        "  act = hp.Choice('activation',\n",
        "                        values=['relu', 'gelu', 'selu', 'tanh'])\n",
        "\n",
        "  if opt == 'sgd':\n",
        "    opt = tf.keras.optimizers.SGD(learning_rate=learning_rate)\n",
        "  elif opt == 'adam':\n",
        "    opt = tf.keras.optimizers.Adam(learning_rate=learning_rate)\n",
        "  elif opt == 'adafactor':\n",
        "    opt = tf.keras.optimizers.Adafactor(learning_rate=learning_rate)\n",
        "  else:\n",
        "    opt = tf.keras.optimizers.Adamax(learning_rate=learning_rate)\n",
        "\n",
        "  if act == 'relu':\n",
        "    act = tf.keras.activations.relu\n",
        "  elif act == 'selu':\n",
        "    act = tf.keras.activations.selu\n",
        "  elif act == 'gelu':\n",
        "    act = tf.keras.activations.gelu\n",
        "  else:\n",
        "    act = tf.keras.activations.tanh\n",
        "\n",
        "  model = tf.keras.Sequential()\n",
        "  model.add(Input(shape=(14,)))\n",
        "  for _ in range(n_hidden):\n",
        "    model.add(tf.keras.layers.Dense(n_neurons, activation=act))\n",
        "  model.add(tf.keras.layers.Dense(1, activation='sigmoid'))\n",
        "\n",
        "  model.compile(loss='binary_crossentropy',\n",
        "              optimizer=opt,\n",
        "              metrics=[tf.keras.metrics.Recall(), tf.keras.metrics.Precision(), f1_score])\n",
        "\n",
        "  return model"
      ],
      "metadata": {
        "id": "DgzZINNH1TwV"
      },
      "execution_count": 92,
      "outputs": []
    },
    {
      "cell_type": "code",
      "source": [
        "def f1_score(y_true, y_pred):\n",
        "    true_positives = K.sum(K.round(K.clip(y_true * y_pred, 0, 1)))\n",
        "    possible_positives = K.sum(K.round(K.clip(y_true, 0, 1)))\n",
        "    predicted_positives = K.sum(K.round(K.clip(y_pred, 0, 1)))\n",
        "    precision = true_positives / (predicted_positives + K.epsilon())\n",
        "    recall = true_positives / (possible_positives + K.epsilon())\n",
        "    f1_val = 2*(precision*recall)/(precision+recall+K.epsilon())\n",
        "    return f1_val"
      ],
      "metadata": {
        "id": "hDvroZBO3HiJ"
      },
      "execution_count": 87,
      "outputs": []
    },
    {
      "cell_type": "code",
      "source": [
        "rand_search = kt.RandomSearch(\n",
        "    build_model,\n",
        "    objective=kt.Objective(\"f1_score\", direction=\"max\"),\n",
        "    max_trials=15,\n",
        "    overwrite=True, directory='diabetes_dataset', project_name='rnd_search',\n",
        "    seed=42\n",
        ")"
      ],
      "metadata": {
        "id": "TXi6626f1bqV"
      },
      "execution_count": 93,
      "outputs": []
    },
    {
      "cell_type": "code",
      "source": [
        "rand_search.search(X_train, y_train, epochs=15,\n",
        "                   validation_data=(X_valid, y_valid))"
      ],
      "metadata": {
        "colab": {
          "base_uri": "https://localhost:8080/"
        },
        "id": "38-jSDig3WmX",
        "outputId": "918eea77-1504-49c0-f691-49d696bc7ac1"
      },
      "execution_count": 94,
      "outputs": [
        {
          "output_type": "stream",
          "name": "stdout",
          "text": [
            "Trial 15 Complete [00h 03m 12s]\n",
            "f1_score: 0.182085782289505\n",
            "\n",
            "Best f1_score So Far: 0.6566755771636963\n",
            "Total elapsed time: 00h 49m 37s\n"
          ]
        }
      ]
    },
    {
      "cell_type": "code",
      "source": [
        "best3 = rand_search.get_best_models(num_models=3)\n",
        "best_model = best3[0]\n",
        "best_params = rand_search.get_best_hyperparameters(num_trials=2)[0].values\n",
        "best_trials = rand_search.oracle.get_best_trials(num_trials=2)[0].summary()"
      ],
      "metadata": {
        "colab": {
          "base_uri": "https://localhost:8080/"
        },
        "id": "IUS3tuts3bHe",
        "outputId": "0052bbf0-383f-4495-81c7-09c4c7156d26"
      },
      "execution_count": 95,
      "outputs": [
        {
          "output_type": "stream",
          "name": "stdout",
          "text": [
            "Trial 07 summary\n",
            "Hyperparameters:\n",
            "n_hidden: 8\n",
            "n_neurons: 212\n",
            "learning_rate: 2.729031103694528e-05\n",
            "optimizer: adam\n",
            "activation: selu\n",
            "Score: 0.6566755771636963\n"
          ]
        }
      ]
    },
    {
      "cell_type": "code",
      "source": [
        "history_best = best_model.fit(X_train, y_train, epochs=1000,\n",
        "          validation_data=(X_valid, y_valid),\n",
        "          callbacks=[early_stopping_cb])"
      ],
      "metadata": {
        "colab": {
          "base_uri": "https://localhost:8080/"
        },
        "id": "8b-k7LtC-UcQ",
        "outputId": "b8dabf2a-3e72-40de-af1d-d15e45a613e4"
      },
      "execution_count": 96,
      "outputs": [
        {
          "output_type": "stream",
          "name": "stdout",
          "text": [
            "Epoch 1/1000\n",
            "2281/2281 [==============================] - 25s 7ms/step - loss: 0.0991 - recall: 0.6265 - precision: 0.9418 - f1_score: 0.6637 - val_loss: 0.1088 - val_recall: 0.5778 - val_precision: 0.9721 - val_f1_score: 0.6310\n",
            "Epoch 2/1000\n",
            "2281/2281 [==============================] - 14s 6ms/step - loss: 0.0977 - recall: 0.6306 - precision: 0.9426 - f1_score: 0.6644 - val_loss: 0.1218 - val_recall: 0.5331 - val_precision: 1.0000 - val_f1_score: 0.5995\n",
            "Epoch 3/1000\n",
            "2281/2281 [==============================] - 18s 8ms/step - loss: 0.0986 - recall: 0.6288 - precision: 0.9498 - f1_score: 0.6558 - val_loss: 0.1119 - val_recall: 0.5828 - val_precision: 0.9972 - val_f1_score: 0.6420\n",
            "Epoch 4/1000\n",
            "2281/2281 [==============================] - 14s 6ms/step - loss: 0.0997 - recall: 0.6265 - precision: 0.9422 - f1_score: 0.6551 - val_loss: 0.1190 - val_recall: 0.6722 - val_precision: 0.8252 - val_f1_score: 0.6722\n",
            "Epoch 5/1000\n",
            "2281/2281 [==============================] - 14s 6ms/step - loss: 0.0979 - recall: 0.6302 - precision: 0.9480 - f1_score: 0.6597 - val_loss: 0.1056 - val_recall: 0.5629 - val_precision: 0.9971 - val_f1_score: 0.6258\n",
            "Epoch 6/1000\n",
            "2281/2281 [==============================] - 14s 6ms/step - loss: 0.0976 - recall: 0.6317 - precision: 0.9454 - f1_score: 0.6593 - val_loss: 0.1129 - val_recall: 0.5480 - val_precision: 1.0000 - val_f1_score: 0.6141\n",
            "Epoch 7/1000\n",
            "2281/2281 [==============================] - 13s 6ms/step - loss: 0.0965 - recall: 0.6333 - precision: 0.9449 - f1_score: 0.6631 - val_loss: 0.1058 - val_recall: 0.5613 - val_precision: 1.0000 - val_f1_score: 0.6222\n",
            "Epoch 8/1000\n",
            "2281/2281 [==============================] - 13s 6ms/step - loss: 0.0974 - recall: 0.6301 - precision: 0.9469 - f1_score: 0.6652 - val_loss: 0.1442 - val_recall: 0.4702 - val_precision: 1.0000 - val_f1_score: 0.5448\n",
            "Epoch 9/1000\n",
            "2281/2281 [==============================] - 14s 6ms/step - loss: 0.0965 - recall: 0.6325 - precision: 0.9498 - f1_score: 0.6511 - val_loss: 0.1049 - val_recall: 0.6159 - val_precision: 0.9738 - val_f1_score: 0.6648\n",
            "Epoch 10/1000\n",
            "2281/2281 [==============================] - 13s 6ms/step - loss: 0.0965 - recall: 0.6301 - precision: 0.9531 - f1_score: 0.6602 - val_loss: 0.1015 - val_recall: 0.6474 - val_precision: 0.9287 - val_f1_score: 0.6790\n",
            "Epoch 11/1000\n",
            "2281/2281 [==============================] - 14s 6ms/step - loss: 0.0961 - recall: 0.6352 - precision: 0.9512 - f1_score: 0.6610 - val_loss: 0.1077 - val_recall: 0.6540 - val_precision: 0.8998 - val_f1_score: 0.6750\n",
            "Epoch 12/1000\n",
            "2281/2281 [==============================] - 13s 6ms/step - loss: 0.0963 - recall: 0.6351 - precision: 0.9558 - f1_score: 0.6676 - val_loss: 0.1008 - val_recall: 0.6623 - val_precision: 0.9153 - val_f1_score: 0.6924\n",
            "Epoch 13/1000\n",
            "2281/2281 [==============================] - 13s 6ms/step - loss: 0.0951 - recall: 0.6354 - precision: 0.9556 - f1_score: 0.6669 - val_loss: 0.1007 - val_recall: 0.6010 - val_precision: 0.9891 - val_f1_score: 0.6603\n",
            "Epoch 14/1000\n",
            "2281/2281 [==============================] - 13s 6ms/step - loss: 0.0945 - recall: 0.6407 - precision: 0.9536 - f1_score: 0.6668 - val_loss: 0.1046 - val_recall: 0.6755 - val_precision: 0.8774 - val_f1_score: 0.6890\n",
            "Epoch 15/1000\n",
            "2281/2281 [==============================] - 14s 6ms/step - loss: 0.0946 - recall: 0.6378 - precision: 0.9551 - f1_score: 0.6644 - val_loss: 0.1018 - val_recall: 0.6142 - val_precision: 0.9738 - val_f1_score: 0.6639\n",
            "Epoch 16/1000\n",
            "2281/2281 [==============================] - 14s 6ms/step - loss: 0.0950 - recall: 0.6364 - precision: 0.9596 - f1_score: 0.6659 - val_loss: 0.0985 - val_recall: 0.6159 - val_precision: 0.9815 - val_f1_score: 0.6698\n",
            "Epoch 17/1000\n",
            "2281/2281 [==============================] - 14s 6ms/step - loss: 0.0943 - recall: 0.6375 - precision: 0.9557 - f1_score: 0.6645 - val_loss: 0.0986 - val_recall: 0.6474 - val_precision: 0.9513 - val_f1_score: 0.6945\n",
            "Epoch 18/1000\n",
            "2281/2281 [==============================] - 13s 6ms/step - loss: 0.0948 - recall: 0.6346 - precision: 0.9562 - f1_score: 0.6623 - val_loss: 0.1255 - val_recall: 0.5331 - val_precision: 1.0000 - val_f1_score: 0.5995\n",
            "Epoch 19/1000\n",
            "2281/2281 [==============================] - 14s 6ms/step - loss: 0.0955 - recall: 0.6370 - precision: 0.9564 - f1_score: 0.6676 - val_loss: 0.1047 - val_recall: 0.6556 - val_precision: 0.9274 - val_f1_score: 0.6836\n",
            "Epoch 20/1000\n",
            "2281/2281 [==============================] - 14s 6ms/step - loss: 0.0938 - recall: 0.6412 - precision: 0.9546 - f1_score: 0.6746 - val_loss: 0.0986 - val_recall: 0.6490 - val_precision: 0.9492 - val_f1_score: 0.6891\n",
            "Epoch 21/1000\n",
            "2281/2281 [==============================] - 13s 6ms/step - loss: 0.0927 - recall: 0.6428 - precision: 0.9616 - f1_score: 0.6784 - val_loss: 0.1025 - val_recall: 0.6341 - val_precision: 0.9871 - val_f1_score: 0.6872\n",
            "Epoch 22/1000\n",
            "2281/2281 [==============================] - 14s 6ms/step - loss: 0.0944 - recall: 0.6372 - precision: 0.9552 - f1_score: 0.6671 - val_loss: 0.0993 - val_recall: 0.6093 - val_precision: 0.9840 - val_f1_score: 0.6693\n",
            "Epoch 23/1000\n",
            "2281/2281 [==============================] - 14s 6ms/step - loss: 0.0927 - recall: 0.6432 - precision: 0.9612 - f1_score: 0.6715 - val_loss: 0.1209 - val_recall: 0.5364 - val_precision: 1.0000 - val_f1_score: 0.6020\n",
            "Epoch 24/1000\n",
            "2281/2281 [==============================] - 14s 6ms/step - loss: 0.0933 - recall: 0.6412 - precision: 0.9601 - f1_score: 0.6600 - val_loss: 0.0975 - val_recall: 0.6126 - val_precision: 0.9920 - val_f1_score: 0.6708\n",
            "Epoch 25/1000\n",
            "2281/2281 [==============================] - 13s 6ms/step - loss: 0.0923 - recall: 0.6436 - precision: 0.9600 - f1_score: 0.6714 - val_loss: 0.1033 - val_recall: 0.6904 - val_precision: 0.8891 - val_f1_score: 0.7010\n",
            "Epoch 26/1000\n",
            "2281/2281 [==============================] - 13s 6ms/step - loss: 0.0911 - recall: 0.6477 - precision: 0.9640 - f1_score: 0.6771 - val_loss: 0.1018 - val_recall: 0.6093 - val_precision: 0.9892 - val_f1_score: 0.6672\n",
            "Epoch 27/1000\n",
            "2281/2281 [==============================] - 14s 6ms/step - loss: 0.0926 - recall: 0.6415 - precision: 0.9646 - f1_score: 0.6703 - val_loss: 0.1385 - val_recall: 0.5348 - val_precision: 1.0000 - val_f1_score: 0.6002\n",
            "Epoch 28/1000\n",
            "2281/2281 [==============================] - 13s 6ms/step - loss: 0.0928 - recall: 0.6394 - precision: 0.9598 - f1_score: 0.6649 - val_loss: 0.1061 - val_recall: 0.6556 - val_precision: 0.8899 - val_f1_score: 0.6762\n",
            "Epoch 29/1000\n",
            "2281/2281 [==============================] - 14s 6ms/step - loss: 0.0903 - recall: 0.6478 - precision: 0.9617 - f1_score: 0.6664 - val_loss: 0.1070 - val_recall: 0.5646 - val_precision: 1.0000 - val_f1_score: 0.6293\n",
            "Epoch 30/1000\n",
            "2281/2281 [==============================] - 14s 6ms/step - loss: 0.0921 - recall: 0.6419 - precision: 0.9627 - f1_score: 0.6724 - val_loss: 0.1035 - val_recall: 0.5877 - val_precision: 0.9726 - val_f1_score: 0.6402\n",
            "Epoch 31/1000\n",
            "2281/2281 [==============================] - 13s 6ms/step - loss: 0.0936 - recall: 0.6394 - precision: 0.9554 - f1_score: 0.6595 - val_loss: 0.1060 - val_recall: 0.5629 - val_precision: 0.9971 - val_f1_score: 0.6250\n",
            "Epoch 32/1000\n",
            "2281/2281 [==============================] - 13s 6ms/step - loss: 0.0907 - recall: 0.6469 - precision: 0.9653 - f1_score: 0.6740 - val_loss: 0.1079 - val_recall: 0.5546 - val_precision: 0.9911 - val_f1_score: 0.6171\n",
            "Epoch 33/1000\n",
            "2281/2281 [==============================] - 14s 6ms/step - loss: 0.0918 - recall: 0.6444 - precision: 0.9666 - f1_score: 0.6783 - val_loss: 0.0984 - val_recall: 0.6209 - val_precision: 0.9817 - val_f1_score: 0.6725\n",
            "Epoch 34/1000\n",
            "2281/2281 [==============================] - 14s 6ms/step - loss: 0.0912 - recall: 0.6491 - precision: 0.9643 - f1_score: 0.6661 - val_loss: 0.0991 - val_recall: 0.5977 - val_precision: 0.9972 - val_f1_score: 0.6553\n",
            "Epoch 35/1000\n",
            "2281/2281 [==============================] - 14s 6ms/step - loss: 0.0907 - recall: 0.6486 - precision: 0.9654 - f1_score: 0.6774 - val_loss: 0.1015 - val_recall: 0.5993 - val_precision: 0.9972 - val_f1_score: 0.6627\n",
            "Epoch 36/1000\n",
            "2281/2281 [==============================] - 14s 6ms/step - loss: 0.0921 - recall: 0.6411 - precision: 0.9620 - f1_score: 0.6689 - val_loss: 0.1131 - val_recall: 0.5414 - val_precision: 1.0000 - val_f1_score: 0.6090\n",
            "Epoch 37/1000\n",
            "2281/2281 [==============================] - 14s 6ms/step - loss: 0.0909 - recall: 0.6491 - precision: 0.9706 - f1_score: 0.6852 - val_loss: 0.1034 - val_recall: 0.5745 - val_precision: 0.9971 - val_f1_score: 0.6354\n",
            "Epoch 38/1000\n",
            "2281/2281 [==============================] - 14s 6ms/step - loss: 0.0920 - recall: 0.6399 - precision: 0.9605 - f1_score: 0.6693 - val_loss: 0.1068 - val_recall: 0.5695 - val_precision: 0.9914 - val_f1_score: 0.6337\n",
            "Epoch 39/1000\n",
            "2281/2281 [==============================] - 14s 6ms/step - loss: 0.0902 - recall: 0.6519 - precision: 0.9621 - f1_score: 0.6765 - val_loss: 0.0945 - val_recall: 0.6474 - val_precision: 0.9775 - val_f1_score: 0.6952\n",
            "Epoch 40/1000\n",
            "2281/2281 [==============================] - 13s 6ms/step - loss: 0.0909 - recall: 0.6441 - precision: 0.9594 - f1_score: 0.6657 - val_loss: 0.1210 - val_recall: 0.5397 - val_precision: 1.0000 - val_f1_score: 0.6052\n",
            "Epoch 41/1000\n",
            "2281/2281 [==============================] - 14s 6ms/step - loss: 0.0898 - recall: 0.6517 - precision: 0.9646 - f1_score: 0.6877 - val_loss: 0.0967 - val_recall: 0.6175 - val_precision: 0.9894 - val_f1_score: 0.6742\n",
            "Epoch 42/1000\n",
            "2281/2281 [==============================] - 13s 6ms/step - loss: 0.0919 - recall: 0.6435 - precision: 0.9630 - f1_score: 0.6714 - val_loss: 0.1006 - val_recall: 0.5894 - val_precision: 0.9972 - val_f1_score: 0.6483\n",
            "Epoch 43/1000\n",
            "2281/2281 [==============================] - 14s 6ms/step - loss: 0.0908 - recall: 0.6477 - precision: 0.9651 - f1_score: 0.6687 - val_loss: 0.1106 - val_recall: 0.6606 - val_precision: 0.8581 - val_f1_score: 0.6697\n",
            "Epoch 44/1000\n",
            "2281/2281 [==============================] - 14s 6ms/step - loss: 0.0901 - recall: 0.6522 - precision: 0.9605 - f1_score: 0.6769 - val_loss: 0.1013 - val_recall: 0.5795 - val_precision: 0.9972 - val_f1_score: 0.6399\n",
            "Epoch 45/1000\n",
            "2281/2281 [==============================] - 14s 6ms/step - loss: 0.0911 - recall: 0.6470 - precision: 0.9670 - f1_score: 0.6810 - val_loss: 0.1017 - val_recall: 0.6060 - val_precision: 0.9919 - val_f1_score: 0.6643\n",
            "Epoch 46/1000\n",
            "2281/2281 [==============================] - 13s 6ms/step - loss: 0.0903 - recall: 0.6520 - precision: 0.9594 - f1_score: 0.6802 - val_loss: 0.0944 - val_recall: 0.6490 - val_precision: 0.9825 - val_f1_score: 0.6987\n",
            "Epoch 47/1000\n",
            "2281/2281 [==============================] - 14s 6ms/step - loss: 0.0897 - recall: 0.6515 - precision: 0.9660 - f1_score: 0.6789 - val_loss: 0.0965 - val_recall: 0.6175 - val_precision: 0.9947 - val_f1_score: 0.6770\n",
            "Epoch 48/1000\n",
            "2281/2281 [==============================] - 14s 6ms/step - loss: 0.0896 - recall: 0.6525 - precision: 0.9622 - f1_score: 0.6827 - val_loss: 0.0988 - val_recall: 0.6424 - val_precision: 0.9848 - val_f1_score: 0.6994\n",
            "Epoch 49/1000\n",
            "2281/2281 [==============================] - 14s 6ms/step - loss: 0.0897 - recall: 0.6506 - precision: 0.9591 - f1_score: 0.6822 - val_loss: 0.0966 - val_recall: 0.6738 - val_precision: 0.9292 - val_f1_score: 0.7098\n",
            "Epoch 50/1000\n",
            "2281/2281 [==============================] - 14s 6ms/step - loss: 0.0900 - recall: 0.6566 - precision: 0.9631 - f1_score: 0.6817 - val_loss: 0.1029 - val_recall: 0.5977 - val_precision: 0.9972 - val_f1_score: 0.6585\n",
            "Epoch 51/1000\n",
            "2281/2281 [==============================] - 14s 6ms/step - loss: 0.0895 - recall: 0.6520 - precision: 0.9603 - f1_score: 0.6716 - val_loss: 0.1090 - val_recall: 0.5613 - val_precision: 0.9912 - val_f1_score: 0.6284\n",
            "Epoch 52/1000\n",
            "2281/2281 [==============================] - 14s 6ms/step - loss: 0.0896 - recall: 0.6511 - precision: 0.9648 - f1_score: 0.6806 - val_loss: 0.1058 - val_recall: 0.5828 - val_precision: 0.9972 - val_f1_score: 0.6453\n",
            "Epoch 53/1000\n",
            "2281/2281 [==============================] - 14s 6ms/step - loss: 0.0900 - recall: 0.6512 - precision: 0.9619 - f1_score: 0.6813 - val_loss: 0.0953 - val_recall: 0.6407 - val_precision: 0.9748 - val_f1_score: 0.6860\n",
            "Epoch 54/1000\n",
            "2281/2281 [==============================] - 13s 6ms/step - loss: 0.0900 - recall: 0.6512 - precision: 0.9623 - f1_score: 0.6809 - val_loss: 0.0972 - val_recall: 0.6490 - val_precision: 0.9874 - val_f1_score: 0.7030\n",
            "Epoch 55/1000\n",
            "2281/2281 [==============================] - 14s 6ms/step - loss: 0.0889 - recall: 0.6488 - precision: 0.9610 - f1_score: 0.6795 - val_loss: 0.0978 - val_recall: 0.6639 - val_precision: 0.9261 - val_f1_score: 0.7031\n",
            "Epoch 56/1000\n",
            "2281/2281 [==============================] - 14s 6ms/step - loss: 0.0892 - recall: 0.6553 - precision: 0.9623 - f1_score: 0.6804 - val_loss: 0.1113 - val_recall: 0.5629 - val_precision: 1.0000 - val_f1_score: 0.6259\n",
            "Epoch 57/1000\n",
            "2281/2281 [==============================] - 14s 6ms/step - loss: 0.0902 - recall: 0.6506 - precision: 0.9604 - f1_score: 0.6754 - val_loss: 0.1030 - val_recall: 0.5927 - val_precision: 0.9944 - val_f1_score: 0.6528\n",
            "Epoch 58/1000\n",
            "2281/2281 [==============================] - 14s 6ms/step - loss: 0.0885 - recall: 0.6570 - precision: 0.9638 - f1_score: 0.6834 - val_loss: 0.0940 - val_recall: 0.6523 - val_precision: 0.9777 - val_f1_score: 0.7006\n",
            "Epoch 59/1000\n",
            "2281/2281 [==============================] - 15s 6ms/step - loss: 0.0887 - recall: 0.6548 - precision: 0.9653 - f1_score: 0.6885 - val_loss: 0.0962 - val_recall: 0.6242 - val_precision: 1.0000 - val_f1_score: 0.6819\n",
            "Epoch 60/1000\n",
            "2281/2281 [==============================] - 14s 6ms/step - loss: 0.0891 - recall: 0.6496 - precision: 0.9622 - f1_score: 0.6787 - val_loss: 0.0970 - val_recall: 0.6291 - val_precision: 0.9769 - val_f1_score: 0.6768\n",
            "Epoch 61/1000\n",
            "2281/2281 [==============================] - 13s 6ms/step - loss: 0.0894 - recall: 0.6485 - precision: 0.9642 - f1_score: 0.6755 - val_loss: 0.0976 - val_recall: 0.6689 - val_precision: 0.9203 - val_f1_score: 0.7025\n",
            "Epoch 62/1000\n",
            "2281/2281 [==============================] - 14s 6ms/step - loss: 0.0892 - recall: 0.6519 - precision: 0.9667 - f1_score: 0.6798 - val_loss: 0.0945 - val_recall: 0.6656 - val_precision: 0.9757 - val_f1_score: 0.7174\n",
            "Epoch 63/1000\n",
            "2281/2281 [==============================] - 14s 6ms/step - loss: 0.0883 - recall: 0.6572 - precision: 0.9629 - f1_score: 0.6822 - val_loss: 0.0941 - val_recall: 0.6490 - val_precision: 0.9949 - val_f1_score: 0.7085\n",
            "Epoch 64/1000\n",
            "2281/2281 [==============================] - 14s 6ms/step - loss: 0.0887 - recall: 0.6562 - precision: 0.9658 - f1_score: 0.6801 - val_loss: 0.1097 - val_recall: 0.5911 - val_precision: 1.0000 - val_f1_score: 0.6525\n",
            "Epoch 65/1000\n",
            "2281/2281 [==============================] - 14s 6ms/step - loss: 0.0885 - recall: 0.6580 - precision: 0.9641 - f1_score: 0.6849 - val_loss: 0.0979 - val_recall: 0.6507 - val_precision: 0.9470 - val_f1_score: 0.6982\n",
            "Epoch 66/1000\n",
            "2281/2281 [==============================] - 14s 6ms/step - loss: 0.0881 - recall: 0.6577 - precision: 0.9684 - f1_score: 0.6815 - val_loss: 0.0929 - val_recall: 0.6606 - val_precision: 0.9661 - val_f1_score: 0.7081\n",
            "Epoch 67/1000\n",
            "2281/2281 [==============================] - 14s 6ms/step - loss: 0.0899 - recall: 0.6556 - precision: 0.9639 - f1_score: 0.6777 - val_loss: 0.0948 - val_recall: 0.6374 - val_precision: 0.9772 - val_f1_score: 0.6853\n",
            "Epoch 68/1000\n",
            "2281/2281 [==============================] - 14s 6ms/step - loss: 0.0903 - recall: 0.6501 - precision: 0.9556 - f1_score: 0.6759 - val_loss: 0.0967 - val_recall: 0.6341 - val_precision: 0.9871 - val_f1_score: 0.6928\n",
            "Epoch 69/1000\n",
            "2281/2281 [==============================] - 14s 6ms/step - loss: 0.0886 - recall: 0.6559 - precision: 0.9635 - f1_score: 0.6788 - val_loss: 0.0995 - val_recall: 0.6275 - val_precision: 0.9948 - val_f1_score: 0.6833\n",
            "Epoch 70/1000\n",
            "2281/2281 [==============================] - 14s 6ms/step - loss: 0.0899 - recall: 0.6504 - precision: 0.9611 - f1_score: 0.6785 - val_loss: 0.0972 - val_recall: 0.6093 - val_precision: 0.9973 - val_f1_score: 0.6661\n",
            "Epoch 71/1000\n",
            "2281/2281 [==============================] - 14s 6ms/step - loss: 0.0882 - recall: 0.6574 - precision: 0.9643 - f1_score: 0.6860 - val_loss: 0.0978 - val_recall: 0.6242 - val_precision: 0.9947 - val_f1_score: 0.6839\n",
            "Epoch 72/1000\n",
            "2281/2281 [==============================] - 14s 6ms/step - loss: 0.0879 - recall: 0.6588 - precision: 0.9657 - f1_score: 0.6820 - val_loss: 0.0976 - val_recall: 0.6126 - val_precision: 0.9946 - val_f1_score: 0.6700\n",
            "Epoch 73/1000\n",
            "2281/2281 [==============================] - 14s 6ms/step - loss: 0.0880 - recall: 0.6590 - precision: 0.9652 - f1_score: 0.6868 - val_loss: 0.0972 - val_recall: 0.6258 - val_precision: 0.9818 - val_f1_score: 0.6749\n",
            "Epoch 74/1000\n",
            "2281/2281 [==============================] - 13s 6ms/step - loss: 0.0890 - recall: 0.6566 - precision: 0.9672 - f1_score: 0.6898 - val_loss: 0.1023 - val_recall: 0.6523 - val_precision: 0.9163 - val_f1_score: 0.6916\n",
            "Epoch 75/1000\n",
            "2281/2281 [==============================] - 14s 6ms/step - loss: 0.0879 - recall: 0.6582 - precision: 0.9693 - f1_score: 0.6799 - val_loss: 0.0929 - val_recall: 0.6507 - val_precision: 0.9850 - val_f1_score: 0.7093\n",
            "Epoch 76/1000\n",
            "2281/2281 [==============================] - 13s 6ms/step - loss: 0.0870 - recall: 0.6630 - precision: 0.9684 - f1_score: 0.6909 - val_loss: 0.0942 - val_recall: 0.6424 - val_precision: 0.9873 - val_f1_score: 0.7019\n",
            "Epoch 77/1000\n",
            "2281/2281 [==============================] - 14s 6ms/step - loss: 0.0885 - recall: 0.6549 - precision: 0.9632 - f1_score: 0.6778 - val_loss: 0.0941 - val_recall: 0.6639 - val_precision: 0.9639 - val_f1_score: 0.7131\n",
            "Epoch 78/1000\n",
            "2281/2281 [==============================] - 14s 6ms/step - loss: 0.0877 - recall: 0.6603 - precision: 0.9662 - f1_score: 0.6865 - val_loss: 0.0991 - val_recall: 0.6689 - val_precision: 0.9161 - val_f1_score: 0.7034\n",
            "Epoch 79/1000\n",
            "2281/2281 [==============================] - 14s 6ms/step - loss: 0.0899 - recall: 0.6475 - precision: 0.9658 - f1_score: 0.6725 - val_loss: 0.0941 - val_recall: 0.6523 - val_precision: 0.9899 - val_f1_score: 0.7102\n",
            "Epoch 80/1000\n",
            "2281/2281 [==============================] - 14s 6ms/step - loss: 0.0873 - recall: 0.6588 - precision: 0.9682 - f1_score: 0.6909 - val_loss: 0.0996 - val_recall: 0.6175 - val_precision: 0.9868 - val_f1_score: 0.6714\n",
            "Epoch 81/1000\n",
            "2281/2281 [==============================] - 13s 6ms/step - loss: 0.0885 - recall: 0.6536 - precision: 0.9647 - f1_score: 0.6848 - val_loss: 0.0939 - val_recall: 0.6705 - val_precision: 0.9529 - val_f1_score: 0.7093\n",
            "Epoch 82/1000\n",
            "2281/2281 [==============================] - 14s 6ms/step - loss: 0.0874 - recall: 0.6596 - precision: 0.9648 - f1_score: 0.6844 - val_loss: 0.0940 - val_recall: 0.6358 - val_precision: 0.9974 - val_f1_score: 0.6933\n",
            "Epoch 83/1000\n",
            "2281/2281 [==============================] - 14s 6ms/step - loss: 0.0875 - recall: 0.6564 - precision: 0.9670 - f1_score: 0.6845 - val_loss: 0.0960 - val_recall: 0.6407 - val_precision: 0.9773 - val_f1_score: 0.6872\n",
            "Epoch 84/1000\n",
            "2281/2281 [==============================] - 15s 6ms/step - loss: 0.0876 - recall: 0.6569 - precision: 0.9665 - f1_score: 0.6879 - val_loss: 0.1004 - val_recall: 0.5927 - val_precision: 0.9808 - val_f1_score: 0.6471\n",
            "Epoch 85/1000\n",
            "2281/2281 [==============================] - 14s 6ms/step - loss: 0.0881 - recall: 0.6585 - precision: 0.9645 - f1_score: 0.6855 - val_loss: 0.0942 - val_recall: 0.6589 - val_precision: 0.9779 - val_f1_score: 0.7121\n",
            "Epoch 86/1000\n",
            "2281/2281 [==============================] - 14s 6ms/step - loss: 0.0875 - recall: 0.6577 - precision: 0.9659 - f1_score: 0.6832 - val_loss: 0.0979 - val_recall: 0.6689 - val_precision: 0.9287 - val_f1_score: 0.6956\n",
            "Epoch 87/1000\n",
            "2281/2281 [==============================] - 14s 6ms/step - loss: 0.0875 - recall: 0.6572 - precision: 0.9670 - f1_score: 0.6915 - val_loss: 0.0940 - val_recall: 0.6291 - val_precision: 0.9870 - val_f1_score: 0.6850\n",
            "Epoch 88/1000\n",
            "2281/2281 [==============================] - 14s 6ms/step - loss: 0.0883 - recall: 0.6572 - precision: 0.9654 - f1_score: 0.6832 - val_loss: 0.1054 - val_recall: 0.5596 - val_precision: 1.0000 - val_f1_score: 0.6242\n",
            "Epoch 89/1000\n",
            "2281/2281 [==============================] - 15s 6ms/step - loss: 0.0861 - recall: 0.6632 - precision: 0.9698 - f1_score: 0.6907 - val_loss: 0.1125 - val_recall: 0.6904 - val_precision: 0.7680 - val_f1_score: 0.6663\n",
            "Epoch 90/1000\n",
            "2280/2281 [============================>.] - ETA: 0s - loss: 0.0875 - recall: 0.6593 - precision: 0.9680 - f1_score: 0.6923Restoring model weights from the end of the best epoch: 75.\n",
            "2281/2281 [==============================] - 14s 6ms/step - loss: 0.0875 - recall: 0.6595 - precision: 0.9680 - f1_score: 0.6924 - val_loss: 0.0984 - val_recall: 0.6043 - val_precision: 0.9865 - val_f1_score: 0.6570\n",
            "Epoch 90: early stopping\n"
          ]
        }
      ]
    },
    {
      "cell_type": "code",
      "source": [
        "best_model.evaluate(pd.get_dummies(X_test), y_test)"
      ],
      "metadata": {
        "colab": {
          "base_uri": "https://localhost:8080/"
        },
        "id": "hhuWVLj3-eGZ",
        "outputId": "2a8a4cfd-28e9-4625-9df0-d65f8610e81e"
      },
      "execution_count": 98,
      "outputs": [
        {
          "output_type": "stream",
          "name": "stdout",
          "text": [
            "625/625 [==============================] - 3s 5ms/step - loss: 0.0832 - recall: 0.6788 - precision: 0.9813 - f1_score: 0.7084\n"
          ]
        },
        {
          "output_type": "execute_result",
          "data": {
            "text/plain": [
              "[0.08324974030256271,\n",
              " 0.6788235306739807,\n",
              " 0.9812925457954407,\n",
              " 0.7084188461303711]"
            ]
          },
          "metadata": {},
          "execution_count": 98
        }
      ]
    },
    {
      "cell_type": "code",
      "source": [
        "preds = model.predict(pd.get_dummies(X_test))"
      ],
      "metadata": {
        "colab": {
          "base_uri": "https://localhost:8080/"
        },
        "id": "p6wuzaZefQYT",
        "outputId": "492a47d6-a80b-4728-eb16-99e4b479ac47"
      },
      "execution_count": 103,
      "outputs": [
        {
          "output_type": "stream",
          "name": "stdout",
          "text": [
            "625/625 [==============================] - 2s 4ms/step\n"
          ]
        }
      ]
    },
    {
      "cell_type": "code",
      "source": [
        "threshold = .39\n",
        "print(precision_score(y_test.to_numpy(), np.where(preds > threshold, 1, 0)))\n",
        "print(recall_score(y_test.to_numpy(), np.where(preds > threshold, 1, 0)))"
      ],
      "metadata": {
        "colab": {
          "base_uri": "https://localhost:8080/"
        },
        "id": "bh3wFnyE-z_K",
        "outputId": "03eec8f0-6c4d-4047-cdd4-729500590f9e"
      },
      "execution_count": 119,
      "outputs": [
        {
          "output_type": "stream",
          "name": "stdout",
          "text": [
            "0.8492392807745505\n",
            "0.7223529411764706\n"
          ]
        }
      ]
    },
    {
      "cell_type": "code",
      "source": [
        "model.save('74_recall', save_format='tf')\n",
        "directory_path = '/content/74_recall'\n",
        "!zip -r model.zip $directory_path\n",
        "files.download('model.zip')"
      ],
      "metadata": {
        "colab": {
          "base_uri": "https://localhost:8080/",
          "height": 156
        },
        "id": "Zx_OJDI7fATb",
        "outputId": "1802b511-c2c0-4336-8974-eb7317be2f88"
      },
      "execution_count": 123,
      "outputs": [
        {
          "output_type": "stream",
          "name": "stdout",
          "text": [
            "  adding: content/74_recall/ (stored 0%)\n",
            "  adding: content/74_recall/variables/ (stored 0%)\n",
            "  adding: content/74_recall/variables/variables.index (deflated 63%)\n",
            "  adding: content/74_recall/variables/variables.data-00000-of-00001 (deflated 44%)\n",
            "  adding: content/74_recall/keras_metadata.pb (deflated 91%)\n",
            "  adding: content/74_recall/fingerprint.pb (stored 0%)\n",
            "  adding: content/74_recall/saved_model.pb (deflated 89%)\n",
            "  adding: content/74_recall/assets/ (stored 0%)\n"
          ]
        },
        {
          "output_type": "display_data",
          "data": {
            "text/plain": [
              "<IPython.core.display.Javascript object>"
            ],
            "application/javascript": [
              "\n",
              "    async function download(id, filename, size) {\n",
              "      if (!google.colab.kernel.accessAllowed) {\n",
              "        return;\n",
              "      }\n",
              "      const div = document.createElement('div');\n",
              "      const label = document.createElement('label');\n",
              "      label.textContent = `Downloading \"${filename}\": `;\n",
              "      div.appendChild(label);\n",
              "      const progress = document.createElement('progress');\n",
              "      progress.max = size;\n",
              "      div.appendChild(progress);\n",
              "      document.body.appendChild(div);\n",
              "\n",
              "      const buffers = [];\n",
              "      let downloaded = 0;\n",
              "\n",
              "      const channel = await google.colab.kernel.comms.open(id);\n",
              "      // Send a message to notify the kernel that we're ready.\n",
              "      channel.send({})\n",
              "\n",
              "      for await (const message of channel.messages) {\n",
              "        // Send a message to notify the kernel that we're ready.\n",
              "        channel.send({})\n",
              "        if (message.buffers) {\n",
              "          for (const buffer of message.buffers) {\n",
              "            buffers.push(buffer);\n",
              "            downloaded += buffer.byteLength;\n",
              "            progress.value = downloaded;\n",
              "          }\n",
              "        }\n",
              "      }\n",
              "      const blob = new Blob(buffers, {type: 'application/binary'});\n",
              "      const a = document.createElement('a');\n",
              "      a.href = window.URL.createObjectURL(blob);\n",
              "      a.download = filename;\n",
              "      div.appendChild(a);\n",
              "      a.click();\n",
              "      div.remove();\n",
              "    }\n",
              "  "
            ]
          },
          "metadata": {}
        },
        {
          "output_type": "display_data",
          "data": {
            "text/plain": [
              "<IPython.core.display.Javascript object>"
            ],
            "application/javascript": [
              "download(\"download_4ebf8deb-38c6-4b0c-b85e-a7d4c37fc77b\", \"model.zip\", 309197)"
            ]
          },
          "metadata": {}
        }
      ]
    }
  ]
}